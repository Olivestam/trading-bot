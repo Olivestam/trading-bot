{
 "cells": [
  {
   "cell_type": "code",
   "execution_count": 1,
   "metadata": {},
   "outputs": [
    {
     "name": "stdout",
     "output_type": "stream",
     "text": [
      "Requirement already satisfied: alpaca in c:\\users\\admin\\appdata\\local\\programs\\python\\python313\\lib\\site-packages (1.0.0)\n"
     ]
    }
   ],
   "source": [
    "!pip install alpaca"
   ]
  },
  {
   "cell_type": "code",
   "execution_count": 3,
   "metadata": {},
   "outputs": [
    {
     "name": "stdout",
     "output_type": "stream",
     "text": [
      "c:\\Users\\Admin\\AppData\\Local\\Programs\\Python\\Python313\\python.exe\n"
     ]
    }
   ],
   "source": [
    "import sys\n",
    "print(sys.executable)\n"
   ]
  },
  {
   "cell_type": "code",
   "execution_count": null,
   "metadata": {},
   "outputs": [
    {
     "ename": "AttributeError",
     "evalue": "type object 'AssetClass' has no attribute 'SV_EQUITY'",
     "output_type": "error",
     "traceback": [
      "\u001b[1;31m---------------------------------------------------------------------------\u001b[0m",
      "\u001b[1;31mAttributeError\u001b[0m                            Traceback (most recent call last)",
      "Cell \u001b[1;32mIn[11], line 22\u001b[0m\n\u001b[0;32m     19\u001b[0m trading_client \u001b[38;5;241m=\u001b[39m TradingClient(API_KEY, SECRET_KEY, paper\u001b[38;5;241m=\u001b[39mpaper)\n\u001b[0;32m     21\u001b[0m \u001b[38;5;66;03m# search for US equities\u001b[39;00m\n\u001b[1;32m---> 22\u001b[0m search_params \u001b[38;5;241m=\u001b[39m GetAssetsRequest(asset_class\u001b[38;5;241m=\u001b[39m\u001b[43mAssetClass\u001b[49m\u001b[38;5;241;43m.\u001b[39;49m\u001b[43mSV_EQUITY\u001b[49m)\n\u001b[0;32m     24\u001b[0m assets \u001b[38;5;241m=\u001b[39m trading_client\u001b[38;5;241m.\u001b[39mget_all_assets(search_params)\n\u001b[0;32m     26\u001b[0m \u001b[38;5;28mprint\u001b[39m(assets)\n",
      "\u001b[1;31mAttributeError\u001b[0m: type object 'AssetClass' has no attribute 'SV_EQUITY'"
     ]
    }
   ],
   "source": [
    "import os\n",
    "from dotenv import load_dotenv\n",
    "from alpaca.trading.client import TradingClient\n",
    "from alpaca.trading.requests import GetAssetsRequest, GetAccountRequest\n",
    "from alpaca.trading.enums import AssetClass\n",
    "\n",
    "# Ladda API-nycklar från .env-filen\n",
    "load_dotenv()\n",
    "API_KEY = os.getenv(\"ALPACA_API_KEY\")\n",
    "SECRET_KEY = os.getenv(\"ALPACA_SECRET_KEY\")\n",
    "ENV = os.getenv(\"ENV\")\n",
    "\n",
    "# Use paper api for development which uses virtual money instead of real\n",
    "if ENV == \"development\":\n",
    "    paper = True\n",
    "else:\n",
    "    paper = False\n",
    "\n",
    "trading_client = TradingClient(API_KEY, SECRET_KEY, paper=paper)\n",
    "\n",
    "# search for US equities\n",
    "search_params = GetAssetsRequest(asset_class=AssetClass.SV_EQUITY)\n",
    "\n",
    "assets = trading_client.get_all_assets(search_params)\n",
    "\n",
    "print(assets)"
   ]
  },
  {
   "cell_type": "code",
   "execution_count": 9,
   "metadata": {},
   "outputs": [],
   "source": [
    "from alpaca.trading.client import TradingClient\n",
    "from alpaca.trading.requests import GetAssetsRequest\n",
    "from alpaca.trading.enums import AssetClass\n",
    "\n",
    "trading_client = TradingClient(API_KEY, SECRET_KEY, paper=True)\n",
    "\n",
    "# search for US equities\n",
    "search_params = GetAssetsRequest(asset_class=AssetClass.US_EQUITY)\n",
    "\n",
    "assets = trading_client.get_all_assets(search_params)"
   ]
  },
  {
   "cell_type": "code",
   "execution_count": 4,
   "metadata": {},
   "outputs": [
    {
     "name": "stdout",
     "output_type": "stream",
     "text": [
      "[Bar({   'c': 242.92,\n",
      "    'h': 244.98,\n",
      "    'l': 241.42,\n",
      "    'n': 312327,\n",
      "    'o': 244.33,\n",
      "    't': '2025-02-26T05:00:00Z',\n",
      "    'v': 20299988,\n",
      "    'vw': 243.013922})]\n"
     ]
    },
    {
     "data": {
      "text/html": [
       "<div>\n",
       "<style scoped>\n",
       "    .dataframe tbody tr th:only-of-type {\n",
       "        vertical-align: middle;\n",
       "    }\n",
       "\n",
       "    .dataframe tbody tr th {\n",
       "        vertical-align: top;\n",
       "    }\n",
       "\n",
       "    .dataframe thead th {\n",
       "        text-align: right;\n",
       "    }\n",
       "</style>\n",
       "<table border=\"1\" class=\"dataframe\">\n",
       "  <thead>\n",
       "    <tr style=\"text-align: right;\">\n",
       "      <th></th>\n",
       "      <th>c</th>\n",
       "      <th>h</th>\n",
       "      <th>l</th>\n",
       "      <th>n</th>\n",
       "      <th>o</th>\n",
       "      <th>t</th>\n",
       "      <th>v</th>\n",
       "      <th>vw</th>\n",
       "    </tr>\n",
       "  </thead>\n",
       "  <tbody>\n",
       "    <tr>\n",
       "      <th>0</th>\n",
       "      <td>242.92</td>\n",
       "      <td>244.98</td>\n",
       "      <td>241.42</td>\n",
       "      <td>312327</td>\n",
       "      <td>244.33</td>\n",
       "      <td>2025-02-26T05:00:00Z</td>\n",
       "      <td>20299988</td>\n",
       "      <td>243.013922</td>\n",
       "    </tr>\n",
       "  </tbody>\n",
       "</table>\n",
       "</div>"
      ],
      "text/plain": [
       "        c       h       l       n       o                     t         v  \\\n",
       "0  242.92  244.98  241.42  312327  244.33  2025-02-26T05:00:00Z  20299988   \n",
       "\n",
       "           vw  \n",
       "0  243.013922  "
      ]
     },
     "metadata": {},
     "output_type": "display_data"
    }
   ],
   "source": [
    "import pandas as pd\n",
    "\n",
    "barset = alpaca.get_bars(\"AAPL\", TimeFrame.Day, limit=5)\n",
    "print(barset)\n",
    "df = pd.DataFrame([bar.__dict__['_raw'] for bar in barset])\n",
    "\n",
    "display(df)"
   ]
  }
 ],
 "metadata": {
  "kernelspec": {
   "display_name": "Python 3",
   "language": "python",
   "name": "python3"
  },
  "language_info": {
   "codemirror_mode": {
    "name": "ipython",
    "version": 3
   },
   "file_extension": ".py",
   "mimetype": "text/x-python",
   "name": "python",
   "nbconvert_exporter": "python",
   "pygments_lexer": "ipython3",
   "version": "3.13.0"
  }
 },
 "nbformat": 4,
 "nbformat_minor": 2
}
