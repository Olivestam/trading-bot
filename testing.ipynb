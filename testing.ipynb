{
 "cells": [
  {
   "cell_type": "code",
   "execution_count": 5,
   "metadata": {},
   "outputs": [
    {
     "name": "stdout",
     "output_type": "stream",
     "text": [
      "Account ID: c337e5a9-441d-4e38-b853-53592ea22966\n",
      "Buying Power: $100000\n"
     ]
    }
   ],
   "source": [
    "import os\n",
    "from dotenv import load_dotenv\n",
    "from alpaca_trade_api.rest import REST, TimeFrame\n",
    "\n",
    "# Ladda API-nycklar från .env-filen\n",
    "load_dotenv()\n",
    "API_KEY = os.getenv(\"ALPACA_API_KEY\")\n",
    "SECRET_KEY = os.getenv(\"ALPACA_SECRET_KEY\")\n",
    "\n",
    "# Använd paper=True för testhandel\n",
    "alpaca = REST(API_KEY, SECRET_KEY, base_url=\"https://paper-api.alpaca.markets\")\n",
    "\n",
    "# Hämta kontoinformation\n",
    "account = alpaca.get_account()\n",
    "print(f\"Account ID: {account.id}\")\n",
    "print(f\"Buying Power: ${account.buying_power}\")\n"
   ]
  },
  {
   "cell_type": "code",
   "execution_count": 9,
   "metadata": {},
   "outputs": [
    {
     "data": {
      "text/html": [
       "<div>\n",
       "<style scoped>\n",
       "    .dataframe tbody tr th:only-of-type {\n",
       "        vertical-align: middle;\n",
       "    }\n",
       "\n",
       "    .dataframe tbody tr th {\n",
       "        vertical-align: top;\n",
       "    }\n",
       "\n",
       "    .dataframe thead th {\n",
       "        text-align: right;\n",
       "    }\n",
       "</style>\n",
       "<table border=\"1\" class=\"dataframe\">\n",
       "  <thead>\n",
       "    <tr style=\"text-align: right;\">\n",
       "      <th></th>\n",
       "      <th>c</th>\n",
       "      <th>h</th>\n",
       "      <th>l</th>\n",
       "      <th>n</th>\n",
       "      <th>o</th>\n",
       "      <th>t</th>\n",
       "      <th>v</th>\n",
       "      <th>vw</th>\n",
       "    </tr>\n",
       "  </thead>\n",
       "  <tbody>\n",
       "    <tr>\n",
       "      <th>0</th>\n",
       "      <td>232.671</td>\n",
       "      <td>235.23</td>\n",
       "      <td>228.13</td>\n",
       "      <td>521756</td>\n",
       "      <td>228.2</td>\n",
       "      <td>2025-02-11T05:00:00Z</td>\n",
       "      <td>41167440</td>\n",
       "      <td>232.764952</td>\n",
       "    </tr>\n",
       "  </tbody>\n",
       "</table>\n",
       "</div>"
      ],
      "text/plain": [
       "         c       h       l       n      o                     t         v  \\\n",
       "0  232.671  235.23  228.13  521756  228.2  2025-02-11T05:00:00Z  41167440   \n",
       "\n",
       "           vw  \n",
       "0  232.764952  "
      ]
     },
     "metadata": {},
     "output_type": "display_data"
    }
   ],
   "source": [
    "import pandas as pd\n",
    "\n",
    "barset = alpaca.get_bars(\"AAPL\", TimeFrame.Day, limit=5)\n",
    "df = pd.DataFrame([bar.__dict__['_raw'] for bar in barset])\n",
    "\n",
    "display(df)"
   ]
  }
 ],
 "metadata": {
  "kernelspec": {
   "display_name": "Python 3",
   "language": "python",
   "name": "python3"
  },
  "language_info": {
   "codemirror_mode": {
    "name": "ipython",
    "version": 3
   },
   "file_extension": ".py",
   "mimetype": "text/x-python",
   "name": "python",
   "nbconvert_exporter": "python",
   "pygments_lexer": "ipython3",
   "version": "3.13.0"
  }
 },
 "nbformat": 4,
 "nbformat_minor": 2
}
